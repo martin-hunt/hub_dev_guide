{
 "cells": [
  {
   "cell_type": "markdown",
   "metadata": {},
   "source": [
    "# Markdown Cells"
   ]
  },
  {
   "cell_type": "markdown",
   "metadata": {},
   "source": [
    "You can document the computational process in a literate way, alternating descriptive text with code, using rich text. In IPython this is accomplished by marking up text with the Markdown language. The corresponding cells are called Markdown cells. The Markdown language provides a simple way to perform this text markup, that is, to specify which parts of the text should be emphasized (italics), bold, form lists, etc.\n",
    "\n",
    "Markdown cells that can contain text, images and equations.  They are written using a combination of Github flavored markdown, HTML, and Latex (a subset for math supported by [MathJax](https://www.mathjax.org).\n",
    "\n",
    "[Markdown](http://daringfireball.net/projects/markdown) is a popular markup language that is a superset of HTML. Github has implemented an extended version which is supported by the Jupyter notebook.\n",
    "\n",
    "When a Markdown cell is executed, the Markdown code is converted into the corresponding formatted rich text. "
   ]
  },
  {
   "cell_type": "markdown",
   "metadata": {},
   "source": [
    "## Markdown Basics"
   ]
  },
  {
   "cell_type": "markdown",
   "metadata": {},
   "source": [
    "In [Modal Editor](basics.ipynb#Modal-Editor), you should have learned how to get into and out of edit mode. Briefly, double-click on a cell to enter edit mode. Click on the \"Run Cell\" button, or hit <kbd>ctrl+enter</kbd> or <kbd>shift+enter</kbd> to render the cell.\n",
    " \n",
    "To keep this simple, I will only show the rendered output.  To see the markdown source that created the cell, double-click on it to enter edit mode."
   ]
  },
  {
   "cell_type": "markdown",
   "metadata": {},
   "source": [
    "### Creating a Markdown Cell\n",
    "\n",
    "You can click on your document where you want to create a new cell, then either:\n",
    "\n",
    "* Click on the menubar button for \"insert cell below\" (looks like a plus sign) and then on the menubar change the pulldown menu from \"Code\" to \"Markdown\".\n",
    "\n",
    "or \n",
    "\n",
    "* From command mode, hit <kbd>a</kbd>, to insert cell above or <kbd>b</kbd> to insert cell below.  Then hit <kbd>m</kbd> to change it to a markdown cell and <kbd>enter</kbd> to enter edit mode.\n"
   ]
  },
  {
   "cell_type": "markdown",
   "metadata": {},
   "source": [
    "## Headers\n",
    "\n",
    "You should use markdown headers to organize your documents. They will appear larger and bolder than other text and can be referenced by hyperlinks."
   ]
  },
  {
   "cell_type": "markdown",
   "metadata": {},
   "source": [
    "# Chapter 1\n",
    "##  1.1\n",
    "###  1.1.1\n",
    "###  1.1.2\n",
    "#### 1.1.1.1\n",
    "##### 1.1.1.1.1\n",
    "\n",
    "Less-commonly these formats are used:\n",
    "\n",
    "Alt-H1\n",
    "======\n",
    "\n",
    "Alt-H2\n",
    "------"
   ]
  },
  {
   "cell_type": "markdown",
   "metadata": {},
   "source": [
    "### Emphasis\n",
    "\n",
    "*italics* _italics_\n",
    "\n",
    "**bold** __bold__\n",
    "\n",
    "**_both_** _**both**_\n",
    "\n",
    "~~Strikethrough~~"
   ]
  },
  {
   "cell_type": "markdown",
   "metadata": {},
   "source": [
    "## Lists"
   ]
  },
  {
   "cell_type": "markdown",
   "metadata": {},
   "source": [
    "Build unordered lists using *, +, or -\n",
    "\n",
    "* One\n",
    "- Sublist\n",
    "    - This\n",
    "  - Sublist\n",
    "    + That\n",
    "    + The other thing\n",
    "* Two\n",
    "  - Sublist\n",
    "* Three\n",
    "  - Sublist\n",
    "\n",
    "Build ordered lists using numbers.  Any number will do.\n",
    "\n",
    "1. Here we go\n",
    "    1. Sublist\n",
    "    1. Sublist\n",
    "        1. Subsublist\n",
    "1. There we go\n",
    "1. Now this"
   ]
  },
  {
   "cell_type": "markdown",
   "metadata": {},
   "source": [
    "## Blockquotes\n",
    "Put '>' at the start of quoted lines. You can use markdown syntax in the quote.  You do not need to put in line feeds. \n",
    "> Beautiful is better than ugly.\n",
    "> Explicit is better than implicit.\n",
    "> Simple is better than complex.\n",
    "> Complex is better than complicated.\n",
    "> Flat is better than nested.\n",
    "> Sparse is better than dense.\n",
    "> Readability counts.\n",
    "\n",
    "And\n",
    "> Special cases **aren't** special enough to break the rules. Although practicality beats purity. Errors should never pass silently. Unless explicitly silenced.\n",
    "\n",
    "You can also nest them:\n",
    "> Level 1\n",
    ">> Level 2\n",
    ">>> level 3"
   ]
  },
  {
   "cell_type": "markdown",
   "metadata": {},
   "source": [
    "## Code\n",
    "To include inline code snippets, you enclose the code in backticks and include\n",
    "the language name for syntax highlighting.\n",
    "\n",
    "No syntax highlighting:\n",
    "```\n",
    "def f(x):\n",
    "    \"\"\"Returns the square of x.\"\"\"\n",
    "    return x**2\n",
    "```\n",
    "\n",
    "Python Highlighting:\n",
    "```python\n",
    "def f(x):\n",
    "    \"\"\"Returns the square of x.\"\"\"\n",
    "    return x**2\n",
    "```\n",
    "or C\n",
    "```c\n",
    "if (i=0; i<n; i++) {\n",
    "    printf(\"hello %d\\n\", i);\n",
    "    x += 4;\n",
    "}\n",
    "```"
   ]
  },
  {
   "cell_type": "markdown",
   "metadata": {},
   "source": [
    "## Horizontal Rules\n",
    "\n",
    "---"
   ]
  },
  {
   "cell_type": "markdown",
   "metadata": {},
   "source": [
    "## Tables\n",
    "\n",
    "Tables can be created by adding vertical bars between each cell, and by adding a line of dashes (also separated by bars) beneath the header. \n",
    "\n",
    "|Item Number|Description|Cost|\n",
    "|-|-|-|\n",
    "|1234|Mouse Pad|\\$9.99|\n",
    "|001238|Monitor|\\$295.99|\n",
    "|106|Keyboard|\\$55.00|\n",
    "\n",
    "You can align columns by using colons:\n",
    "\n",
    "|Item Number|Description|Cost|\n",
    "|-|:-:|-:|\n",
    "|1234|Mouse Pad|\\$9.99|\n",
    "|001238|Monitor|\\$295.99|\n",
    "|106|Keyboard|\\$55.00|"
   ]
  },
  {
   "cell_type": "markdown",
   "metadata": {},
   "source": [
    "## Links\n",
    "\n",
    "Link to another site\n",
    "\n",
    "[Jupyter's website](http://jupyter.org)\n",
    "\n",
    "Same link with a tooltip:\n",
    "\n",
    "[Jupyter's website](http://jupyter.org \"Go to jupyter.org\")\n",
    "\n",
    "Link to a header in this document\n",
    "\n",
    "[Back to Lists](#Lists)\n",
    "\n",
    "Link to a header in another document\n",
    "\n",
    "[Modal Editor](basics.ipynb#Modal-Editor)"
   ]
  },
  {
   "cell_type": "markdown",
   "metadata": {},
   "source": [
    "# Equations"
   ]
  },
  {
   "cell_type": "markdown",
   "metadata": {},
   "source": [
    "Courtesy of [MathJax](https://www.mathjax.org), you can include mathematical expressions both inline: \n",
    "$e^{i\\pi} + 1 = 0$  and displayed:\n",
    "\n",
    "$$e^x=\\sum_{i=0}^\\infty \\frac{1}{i!}x^i$$\n",
    "Inline expressions can be added by surrounding the latex code with `$`:\n",
    "```\n",
    "$e^{i\\pi} + 1 = 0$\n",
    "```\n",
    "\n",
    "Expressions on their own line are surrounded by `$$`:\n",
    "```latex\n",
    "$$e^x=\\sum_{i=0}^\\infty \\frac{1}{i!}x^i$$\n",
    "```"
   ]
  },
  {
   "cell_type": "markdown",
   "metadata": {},
   "source": [
    "More examples:\n",
    "\n",
    "$$\\begin{equation*}\n",
    "\\mathbf{V}_1 \\times \\mathbf{V}_2 =  \\begin{vmatrix}\n",
    "\\mathbf{i} & \\mathbf{j} & \\mathbf{k} \\\\\n",
    "\\frac{\\partial X}{\\partial u} &  \\frac{\\partial Y}{\\partial u} & 0 \\\\\n",
    "\\frac{\\partial X}{\\partial v} &  \\frac{\\partial Y}{\\partial v} & 0\n",
    "\\end{vmatrix}  \n",
    "\\end{equation*}$$\n",
    "\n",
    "When $a \\ne 0$, there are two solutions to $(ax^2 + bx + c = 0)$ and they are\n",
    "$$x = {-b \\pm \\sqrt{b^2-4ac} \\over 2a}.$$"
   ]
  },
  {
   "cell_type": "markdown",
   "metadata": {},
   "source": [
    "You should check the [MathJax](https://www.mathjax.org) site for more details\n",
    "about how much LaTex is implemented.\n",
    "\n",
    "$$\n",
    "Testing\n",
    "\\color{lime}{LIME}black\n",
    "\\mathscr{\\color{red}{Red Script}}\n",
    "$$\n",
    "\n",
    "\n",
    "$$\n",
    "\\require{mhchem}\n",
    "\\ce{C6H5-CHO}\n",
    "\\ce{$A$ ->[\\ce{+H2O}] $B$}\n",
    "\\ce{SO4^2- + Ba^2+ -> BaSO4 v}\n",
    "$$\n",
    "\n",
    "$$\n",
    "\\require{enclose}\n",
    "\\enclose{circle}[mathcolor=\"red\"]{x}\n",
    "\\enclose{circle}[mathcolor=\"red\"]{\\color{black}{x}}\n",
    "\\enclose{circle,box}{x}\n",
    "\\enclose{circle}{\\enclose{box}{x}}\n",
    "$$"
   ]
  },
  {
   "cell_type": "markdown",
   "metadata": {},
   "source": [
    "## Equation Numbering and References\n",
    "\n",
    "In [Notebook Settings](../NotebookSettings/NotebookSettings.ipynb) you can enable equation numbering.  It will add an icon to the menubar.  Click on it whenever you want to renumber equations and references.\n"
   ]
  },
  {
   "cell_type": "markdown",
   "metadata": {},
   "source": [
    "To create a numbered equation, it must start with ```\\begin{equation}```.\n",
    "You need to include a label for use with references.\n",
    "\n",
    "Click the renumber icon to render the equation with a reference number.\n",
    "\n",
    "\\begin{equation}\n",
    "  \\int_0^\\infty \\frac{x^3}{e^x-1}\\,dx = \\frac{\\pi^4}{15}\n",
    "  \\label{eq:mylabel}\n",
    "\\end{equation}\n",
    "\n",
    "\\begin{equation}\n",
    "e^{i\\pi} + 1 = 0\n",
    "  \\label{eq:another_label}\n",
    "\\end{equation}"
   ]
  },
  {
   "cell_type": "markdown",
   "metadata": {},
   "source": [
    "In equation \\eqref{eq:another_label} we showed the relationship between $e$,  $i$ and $\\pi$."
   ]
  },
  {
   "cell_type": "markdown",
   "metadata": {},
   "source": [
    "# HTML\n",
    "\n",
    "You can also mix HTML5 with your markdown."
   ]
  },
  {
   "cell_type": "markdown",
   "metadata": {},
   "source": [
    "<s>To strike something out</s>\n",
    "\n",
    "~~To strike something out~~"
   ]
  },
  {
   "cell_type": "markdown",
   "metadata": {},
   "source": [
    "You can change font size, family and color using the HTML5 style tag.\n",
    "<p style=\"color:red\">Hello World</p>\n",
    "<p style=\"color:green\">Hello World</p>\n",
    "<h1 style=\"color:blue;\">Blue Header</h1>\n",
    "<p style=\"color: orange;\n",
    "    font-family: courier;\n",
    "    font-size: 300%;\">\n",
    "Hello World</p>"
   ]
  },
  {
   "cell_type": "markdown",
   "metadata": {},
   "source": [
    "You can do the same to the ```<HR>``` element.\n",
    "\n",
    "<hr style=\"height:10px\">\n",
    "<hr style=\"height:10px; background-color:red\">\n",
    "<hr style='background-color:#000000;color:#000000;height:2px;width:50%;'>\n",
    "<hr style=\"background-color:orange; width:50%; height:5px;\" >\n",
    "<hr style=\"border-width: 2px;\n",
    "           border-style: solid;\n",
    "           border-color: green; \n",
    "           width: 50%;\n",
    "           height: 20px;\n",
    "           background-color: white;\n",
    "           \">\n",
    "<hr style = 'background-color:#000000; border-width:0; color:#000000; height:2px; lineheight:0; display: inline-block; text-align: left; width:50%;' >"
   ]
  },
  {
   "cell_type": "markdown",
   "metadata": {},
   "source": [
    "# Fonts\n",
    "\n",
    "<h1 style=\"color:blue;background:black\">This is a Blue Heading on a Black Background</h1>\n",
    "<p style=\"color:blue;\">This is Blue Text</p>\n",
    "<p style=\"color:red;font-size: 200%\">This is red text at 200%</p>\n",
    "<p style=\"color:orange;font-size:300%;font-family:courier\">This is  orange at 300% in courier</p>\n",
    "<p style=\"color:green;font-size:300%;font-family:'Times New Roman', Times, serif\">This is  green at 300% in Times</p>\n",
    "<p style=\"font-family:'Comic Sans MS', cursive, sans-serif;font-size:300%\"> Comic Sans (if available)</p>\n",
    "<p style=\"font-family:sans-serif;font-size:300%\">sans-serif</p>\n",
    "<p style=\"font-family:monospace;font-size:300%\">monospace 0123</p>"
   ]
  },
  {
   "cell_type": "markdown",
   "metadata": {},
   "source": [
    "## Bootstrap and CSS\n",
    "\n",
    "Classic Jupyter includes [Bootstrap](http://getbootstrap.com/), so we can use it there. But if we do, JupyterLab will render our pages differently.\n",
    "We recommend you use CSS to style your output. You can do this with a code cell as below, or create a function to set the CSS."
   ]
  },
  {
   "cell_type": "code",
   "execution_count": 1,
   "metadata": {},
   "outputs": [
    {
     "data": {
      "text/html": [
       "\n",
       "<style>\n",
       ".yellowbg {\n",
       "    color: #8a6d3b;\n",
       "    background-color: #fcf8e3;\n",
       "    border-color: #faebcc;\n",
       "    padding: 15px;\n",
       "    border: 1px solid transparent;\n",
       "    border-radius: 2px;\n",
       "}\n",
       ".bluebg {\n",
       "    color: #31708f;\n",
       "    background-color: #d9edf7;\n",
       "    border-color: #bce8f1;\n",
       "    padding: 15px;\n",
       "    border: 1px solid transparent;\n",
       "    border-radius: 2px;\n",
       "}\n",
       "</style>\n"
      ],
      "text/plain": [
       "<IPython.core.display.HTML object>"
      ]
     },
     "metadata": {},
     "output_type": "display_data"
    }
   ],
   "source": [
    "%%html\n",
    "\n",
    "<style>\n",
    ".yellowbg {\n",
    "    color: #8a6d3b;\n",
    "    background-color: #fcf8e3;\n",
    "    border-color: #faebcc;\n",
    "    padding: 15px;\n",
    "    border: 1px solid transparent;\n",
    "    border-radius: 2px;\n",
    "}\n",
    ".bluebg {\n",
    "    color: #31708f;\n",
    "    background-color: #d9edf7;\n",
    "    border-color: #bce8f1;\n",
    "    padding: 15px;\n",
    "    border: 1px solid transparent;\n",
    "    border-radius: 2px;\n",
    "}\n",
    "</style>"
   ]
  },
  {
   "cell_type": "markdown",
   "metadata": {},
   "source": [
    "<div class=\"yellowbg\">\n",
    "Brown text on a yellow background with padding\n",
    "</div>\n",
    "\n",
    "<p class=\"bluebg\">\n",
    "Blue text on a lightblue background with padding.  This is just an example of how you can create paragraph styles with CSS.<br><br>\n",
    "Lorem ipsum dolor sit amet, consectetur adipiscing elit. In egestas fringilla mollis. Nunc nisi lectus, vulputate sed magna non, gravida molestie sem. Nullam quis ante eu dui tincidunt vestibulum. Suspendisse sit amet consequat ante. Curabitur quis sem urna. Aenean eu ex purus. Donec et ex ornare, ultrices massa ut, ultricies sapien. Ut pellentesque arcu eu laoreet semper. Vivamus maximus ullamcorper vulputate. Quisque pharetra lacus non fringilla volutpat. Etiam vitae euismod felis. Nulla at mattis sapien, et faucibus turpis.\n",
    "</p>\n"
   ]
  },
  {
   "cell_type": "markdown",
   "metadata": {},
   "source": [
    "We can use icons from font-awesome\n",
    "\n",
    "<i class=\"fa fa-camera\" aria-hidden=\"true\"></i>\n",
    "<i class=\"fa fa-camera fa-3x\" aria-hidden=\"true\"></i>\n",
    "<i class=\"fa fa-camera fa-5x\" aria-hidden=\"true\"></i>\n",
    "\n",
    "<i class=\"fa fa-cog fa-spin fa-3x fa-fw\"></i>\n"
   ]
  },
  {
   "cell_type": "markdown",
   "metadata": {},
   "source": [
    "## Colors\n",
    "[Color Names Supported by All Browsers](http://www.w3schools.com/colors/colors_names.asp)"
   ]
  }
 ],
 "metadata": {
  "kernelspec": {
   "display_name": "Python 3",
   "language": "python",
   "name": "python3"
  },
  "language_info": {
   "codemirror_mode": {
    "name": "ipython",
    "version": 3
   },
   "file_extension": ".py",
   "mimetype": "text/x-python",
   "name": "python",
   "nbconvert_exporter": "python",
   "pygments_lexer": "ipython3",
   "version": "3.7.3"
  }
 },
 "nbformat": 4,
 "nbformat_minor": 2
}
