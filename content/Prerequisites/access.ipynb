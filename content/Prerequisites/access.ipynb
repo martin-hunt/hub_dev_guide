{
 "cells": [
  {
   "cell_type": "markdown",
   "metadata": {},
   "source": [
    "# Accessing your home directory\n",
    "\n",
    "Accessing your home directory on the Hub is easy with the three methods described in this section. While sFTP is the most common, you will find which method works best for you.\n",
    "\n",
    "If you are developing tools or notebooks using Jupyter, you can use Jupyter's upload and download feature.  \n",
    "\n",
    "Files uploaded in your home directory can not be moved into Groups or Projects.\n",
    "\n"
   ]
  }
 ],
 "metadata": {
  "kernelspec": {
   "display_name": "Python 3",
   "language": "python",
   "name": "python3"
  },
  "language_info": {
   "codemirror_mode": {
    "name": "ipython",
    "version": 3
   },
   "file_extension": ".py",
   "mimetype": "text/x-python",
   "name": "python",
   "nbconvert_exporter": "python",
   "pygments_lexer": "ipython3",
   "version": "3.7.3"
  }
 },
 "nbformat": 4,
 "nbformat_minor": 2
}
