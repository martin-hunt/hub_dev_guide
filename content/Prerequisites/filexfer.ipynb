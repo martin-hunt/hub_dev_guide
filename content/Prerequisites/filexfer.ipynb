{
 "cells": [
  {
   "cell_type": "markdown",
   "metadata": {},
   "source": [
    "<h2>filexfer (in Workspace tool)</h2>\n",
    "\n",
    "<div class=\"doc-content\" data-id=\"7934\">\n",
    "<p>Filexfer, short for &#39;file transfer&#39;, is a utility that you can call from within the workspace tool to transfer a file into your home directory from your local machine or download a file from your home directory. Type &#39;filexfer&#39; in the xterm provided to you when you start the workspace tool. You should now see the filexfer GUI as it appears in the image below.</p>\n",
    "\n",
    "<p><img alt=\"filexfer screenshot\" src=\"https://help.hubzero.org/app/site/media/images/documentation/2.2.0/filexfer.png\" style=\"width: 50%; height: 50%;\" /></p>\n",
    "\n",
    "<p>Click on &quot;Upload&quot; or &quot;Download&quot; for the desired action. Please note, that you must enable pop-ups in your browser to proceed. The following windows that appear allow you to browse or download per your selected action. Note: filexfer is currently limited to uploading one file at a time..</p>\n",
    "</div>\n"
   ]
  }
 ],
 "metadata": {
  "kernelspec": {
   "display_name": "Python 3",
   "language": "python",
   "name": "python3"
  },
  "language_info": {
   "codemirror_mode": {
    "name": "ipython",
    "version": 3
   },
   "file_extension": ".py",
   "mimetype": "text/x-python",
   "name": "python",
   "nbconvert_exporter": "python",
   "pygments_lexer": "ipython3",
   "version": "3.7.3"
  }
 },
 "nbformat": 4,
 "nbformat_minor": 2
}
